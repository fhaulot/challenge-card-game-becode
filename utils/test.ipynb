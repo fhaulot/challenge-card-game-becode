{
 "cells": [
  {
   "cell_type": "code",
   "execution_count": 50,
   "id": "7d61c224",
   "metadata": {},
   "outputs": [],
   "source": [
    "from typing import List\n",
    "class Symbol :\n",
    "    def __init__(self, color : str, icon : str):\n",
    "        self.color = color\n",
    "        self.icon = icon \n",
    "\n",
    "    def __str__(self) :\n",
    "        return f\"The symbol is {self.color} and {self.icon}\"\n",
    "\n",
    "class Card(Symbol) : \n",
    "    def __init__(self, color : str, icon : str, value : str) :\n",
    "        super().__init__(color, icon)\n",
    "        self.value = value \n",
    "    def __str__(self) :\n",
    "        return f\"the card is {self.value}, {self.color}, {self.icon}\"\n",
    "\n"
   ]
  },
  {
   "cell_type": "code",
   "execution_count": 51,
   "id": "7b25153f",
   "metadata": {},
   "outputs": [
    {
     "data": {
      "text/plain": [
       "'red'"
      ]
     },
     "execution_count": 51,
     "metadata": {},
     "output_type": "execute_result"
    }
   ],
   "source": [
    "card1 = Card(\"red\", \"heart\", \"3\")\n",
    "card1.color \n"
   ]
  },
  {
   "cell_type": "code",
   "execution_count": 26,
   "id": "2b082a0f",
   "metadata": {},
   "outputs": [],
   "source": [
    "cards = [Card(\"red\", \"square\", \"3\" ), Card(\"red\", \"square\", \"4\")]\n",
    "\n"
   ]
  },
  {
   "cell_type": "code",
   "execution_count": 58,
   "id": "14b099c4",
   "metadata": {},
   "outputs": [
    {
     "ename": "IndentationError",
     "evalue": "expected an indented block after function definition on line 34 (player.py, line 38)",
     "output_type": "error",
     "traceback": [
      "Traceback \u001b[36m(most recent call last)\u001b[39m:\n",
      "  File \u001b[92m~\\AppData\\Roaming\\Python\\Python313\\site-packages\\IPython\\core\\interactiveshell.py:3667\u001b[39m in \u001b[95mrun_code\u001b[39m\n    exec(code_obj, self.user_global_ns, self.user_ns)\n",
      "\u001b[36m  \u001b[39m\u001b[36mCell\u001b[39m\u001b[36m \u001b[39m\u001b[32mIn[58]\u001b[39m\u001b[32m, line 9\u001b[39m\n\u001b[31m    \u001b[39m\u001b[31mfrom player import Player\u001b[39m\n",
      "  \u001b[36mFile \u001b[39m\u001b[32mc:\\Users\\fhaul\\Documents\\GitHub\\challenge-card-game-becode\\utils\\player.py:38\u001b[39m\n\u001b[31m    \u001b[39m\u001b[31mclass Deck :\u001b[39m\n                 ^\n\u001b[31mIndentationError\u001b[39m\u001b[31m:\u001b[39m expected an indented block after function definition on line 34\n"
     ]
    }
   ],
   "source": [
    "\"\"\"Create a Deck class that contains:\n",
    "\n",
    "An attribute cards which is going to contain a list of object of Card.\n",
    "A fill_deck() method that will fill cards with a complete card game (an instance of 'A, 2, 3, 4, 5, 6, 7, 8, 9, 10, J, Q, K' for each possible symbol [♥, ♦, ♣, ♠]). Your deck should contain 52 cards at the end.\n",
    "A shuffle() method that will shuffle all the list of cards.\n",
    "A distribute() that will take a list of Player as parameter and will distribute the cards evenly between all the players.\"\"\"\n",
    "from typing import List\n",
    "from random import shuffle\n",
    "from player import Player\n",
    "class Deck : \n",
    "    \n",
    "    def __init__(self):\n",
    "        self.deck : list[Card]= []\n",
    "        \n",
    "    def fill_deck(self) :\n",
    "        icons = [(\"red\",\"♥\"),(\"red\",\"♦\"),(\"black\",\"♣\"), (\"black\",\"♠\")]\n",
    "        values = ['A', '2', '3', '4', '5', '6', '7', '8', '9', '10', 'J', 'Q', 'K']\n",
    "        for color, icon in icons  : \n",
    "            for value in values : \n",
    "                card = Card(color, icon, value)\n",
    "                self.deck.append(card)\n",
    "    \n",
    "    def shuffle(self) : \n",
    "        return shuffle(self.deck)\n",
    "    \n",
    "    def distribute(self) :\n",
    "        list_of_player : list(Player) = [\"Paul\", \"Ringo\", \"George\", \"John\"]\n",
    "\n",
    "    def __string__(self) : \n",
    "        return f\"The deck has {len(self.deck)} cards in it\"\n",
    "\n",
    "        \n",
    "\n",
    "    \n",
    "        \n",
    "    \n"
   ]
  },
  {
   "cell_type": "code",
   "execution_count": 53,
   "id": "0f4a7090",
   "metadata": {},
   "outputs": [
    {
     "ename": "NameError",
     "evalue": "name 'self' is not defined",
     "output_type": "error",
     "traceback": [
      "\u001b[31m---------------------------------------------------------------------------\u001b[39m",
      "\u001b[31mNameError\u001b[39m                                 Traceback (most recent call last)",
      "\u001b[36mCell\u001b[39m\u001b[36m \u001b[39m\u001b[32mIn[53]\u001b[39m\u001b[32m, line 1\u001b[39m\n\u001b[32m----> \u001b[39m\u001b[32m1\u001b[39m \u001b[38;5;28;43mself\u001b[39;49m.fill_deck\n",
      "\u001b[31mNameError\u001b[39m: name 'self' is not defined"
     ]
    }
   ],
   "source": [
    "self.fill_deck\n"
   ]
  }
 ],
 "metadata": {
  "kernelspec": {
   "display_name": "Python 3",
   "language": "python",
   "name": "python3"
  },
  "language_info": {
   "codemirror_mode": {
    "name": "ipython",
    "version": 3
   },
   "file_extension": ".py",
   "mimetype": "text/x-python",
   "name": "python",
   "nbconvert_exporter": "python",
   "pygments_lexer": "ipython3",
   "version": "3.13.3"
  }
 },
 "nbformat": 4,
 "nbformat_minor": 5
}
